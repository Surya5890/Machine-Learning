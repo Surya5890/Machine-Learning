{
  "nbformat": 4,
  "nbformat_minor": 0,
  "metadata": {
    "colab": {
      "provenance": [],
      "toc_visible": true,
      "authorship_tag": "ABX9TyPD0Ae/BL+hGKvWPRl2kEfW",
      "include_colab_link": true
    },
    "kernelspec": {
      "name": "python3",
      "display_name": "Python 3"
    },
    "language_info": {
      "name": "python"
    }
  },
  "cells": [
    {
      "cell_type": "markdown",
      "metadata": {
        "id": "view-in-github",
        "colab_type": "text"
      },
      "source": [
        "<a href=\"https://colab.research.google.com/github/Surya5890/Machine-Learning/blob/main/FashionMNIST.ipynb\" target=\"_parent\"><img src=\"https://colab.research.google.com/assets/colab-badge.svg\" alt=\"Open In Colab\"/></a>"
      ]
    },
    {
      "cell_type": "code",
      "execution_count": 15,
      "metadata": {
        "id": "X7B0oO9e43lT"
      },
      "outputs": [],
      "source": [
        "import tensorflow as tf\n",
        "import numpy as np\n",
        "import matplotlib.pyplot as plt"
      ]
    },
    {
      "cell_type": "code",
      "source": [
        "fmnist = tf.keras.datasets.fashion_mnist\n",
        "(train_img, train_labels), (test_img, test_labels) = fmnist.load_data()"
      ],
      "metadata": {
        "id": "F6CF--7K49Ws"
      },
      "execution_count": 16,
      "outputs": []
    },
    {
      "cell_type": "code",
      "source": [
        "class myCallbacks(tf.keras.callbacks.Callback):\n",
        "  def on_epoch_end(self, epoch, logs={}):\n",
        "    if (logs.get('accuracy')>=0.6):\n",
        "        print('\\nStopping as accuracy crossed 60%')\n",
        "        self.model.stop_training = True"
      ],
      "metadata": {
        "id": "t5k42SX7jHam"
      },
      "execution_count": 23,
      "outputs": []
    },
    {
      "cell_type": "code",
      "source": [
        "callbacks = myCallbacks()\n",
        "train_img = train_img/255.0\n",
        "test_img = test_img/255.0\n",
        "model = tf.keras.Sequential([\n",
        "    tf.keras.layers.Flatten(),\n",
        "    tf.keras.layers.Dense(units=128, activation=tf.nn.relu),\n",
        "    tf.keras.layers.Dense(units=10, activation=tf.nn.softmax),\n",
        "])\n",
        "\n",
        "model.compile(optimizer=tf.optimizers.Adam(),\n",
        "              loss = 'sparse_categorical_crossentropy',\n",
        "              metrics = 'accuracy')\n",
        "model.fit(train_img, train_labels, epochs=10, callbacks=[callbacks])\n",
        "model.evaluate(test_img, test_labels)\n",
        "classfication = model.predict(test_img)\n",
        "print(classfication[1000])\n",
        "print(test_labels[1000])\n",
        "plt.imshow(test_img[1000])\n"
      ],
      "metadata": {
        "id": "OhclrNf175J9"
      },
      "execution_count": null,
      "outputs": []
    }
  ]
}